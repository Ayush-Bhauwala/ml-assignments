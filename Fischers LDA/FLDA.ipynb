{
 "cells": [
  {
   "cell_type": "code",
   "execution_count": 1,
   "metadata": {},
   "outputs": [],
   "source": [
    "import numpy as np\n",
    "import pandas as pd\n",
    "from FischersLinearDiscriminant import FischersLinearDiscriminant\n",
    "import sys\n",
    "sys.path.append(\"..\")\n",
    "from preprocessor import Preprocessor"
   ]
  },
  {
   "cell_type": "code",
   "execution_count": null,
   "metadata": {},
   "outputs": [],
   "source": [
    "dataset = pd.read_csv(\"../dataset.csv\")\n",
    "dataset.drop(columns = [\"id\"], inplace=True)"
   ]
  },
  {
   "cell_type": "code",
   "execution_count": null,
   "metadata": {},
   "outputs": [],
   "source": [
    "preprocessor = Preprocessor(dataset, \"diagnosis\")\n",
    "preprocessor.preprocess()"
   ]
  },
  {
   "cell_type": "code",
   "execution_count": null,
   "metadata": {},
   "outputs": [],
   "source": [
    "accuracies: list[float] = []\n",
    "precisions: list[tuple[float, float]] = []\n",
    "recalls: list[tuple[float, float]] = []"
   ]
  },
  {
   "cell_type": "code",
   "execution_count": null,
   "metadata": {},
   "outputs": [],
   "source": [
    "for _ in range(1000):\n",
    "\n",
    "    splits = preprocessor.get_folds(100)\n",
    "\n",
    "    train = pd.concat(splits[:67])\n",
    "    test = pd.concat(splits[67:])\n",
    "\n",
    "    X_train = train.drop(columns=[\"diagnosis\"]).to_numpy()\n",
    "    y_train = train[\"diagnosis\"].to_numpy()\n",
    "    X_test = test.drop(columns=[\"diagnosis\"]).to_numpy()\n",
    "    y_test = test[\"diagnosis\"].to_numpy()\n",
    "\n",
    "    fldm1 = FischersLinearDiscriminant()\n",
    "    fldm1.fit(X_train, y_train)\n",
    "    tp, tn, fp, fn = fldm1.score(X_test, y_test)\n",
    "    accuracies.append((tp+tn)/(tp+tn+fp+fn))\n",
    "    precisions.append((tp/(tp+fp), tn/(tn+fn)))\n",
    "    recalls.append((tp/(tp+fn), tn/(tn+fp)))\n"
   ]
  },
  {
   "cell_type": "code",
   "execution_count": null,
   "metadata": {},
   "outputs": [],
   "source": [
    "print('--------Results--------')\n",
    "print(f\"Accuracy mean: {np.mean(accuracies).round(4)*100}%, stdev: {np.std(accuracies).round(4)*100}%\")\n",
    "\n",
    "print(\"----Class 1----\")\n",
    "print(f\"Precision mean: {np.mean([precision[0] for precision in precisions]).round(4)*100}%, stdev: {np.std([precision[0] for precision in precisions]).round(4)*100}%\")\n",
    "print(f\"Recall mean: {np.mean([recall[0] for recall in recalls]).round(4)*100}%, stdev: {np.std([recall[0] for recall in recalls]).round(4)*100}%\")\n",
    "\n",
    "print(\"----Class -1----\")\n",
    "print(f\"Precision mean: {np.mean([precision[1] for precision in precisions]).round(4)*100}%, stdev: {np.std([precision[1] for precision in precisions]).round(4)*100}%\")\n",
    "print(f\"Recall mean: {np.mean([recall[1] for recall in recalls]).round(4)*100}%, stdev: {np.std([recall[1] for recall in recalls]).round(4)*100}%\")"
   ]
  },
  {
   "cell_type": "code",
   "execution_count": null,
   "metadata": {},
   "outputs": [],
   "source": [
    "shuffled_dataset = dataset.sample(frac=1, axis=1)\n"
   ]
  },
  {
   "cell_type": "code",
   "execution_count": null,
   "metadata": {},
   "outputs": [],
   "source": [
    "dataset.columns"
   ]
  },
  {
   "cell_type": "code",
   "execution_count": null,
   "metadata": {},
   "outputs": [],
   "source": [
    "shuffled_dataset.columns"
   ]
  },
  {
   "cell_type": "code",
   "execution_count": null,
   "metadata": {},
   "outputs": [],
   "source": [
    "preprocessor = Preprocessor(shuffled_dataset, \"diagnosis\")\n",
    "preprocessor.preprocess()"
   ]
  },
  {
   "cell_type": "code",
   "execution_count": null,
   "metadata": {},
   "outputs": [],
   "source": [
    "accuracies: list[float] = []\n",
    "precisions: list[tuple[float, float]] = []\n",
    "recalls: list[tuple[float, float]] = []"
   ]
  },
  {
   "cell_type": "code",
   "execution_count": null,
   "metadata": {},
   "outputs": [],
   "source": [
    "for _ in range(1000):\n",
    "\n",
    "    splits = preprocessor.get_folds(100)\n",
    "\n",
    "    train = pd.concat(splits[:67])\n",
    "    test = pd.concat(splits[67:])\n",
    "\n",
    "    X_train = train.drop(columns=[\"diagnosis\"]).to_numpy()\n",
    "    y_train = train[\"diagnosis\"].to_numpy()\n",
    "    X_test = test.drop(columns=[\"diagnosis\"]).to_numpy()\n",
    "    y_test = test[\"diagnosis\"].to_numpy()\n",
    "\n",
    "    fldm2 = FischersLinearDiscriminant()\n",
    "    fldm2.fit(X_train, y_train)\n",
    "    tp, tn, fp, fn = fldm2.score(X_test, y_test)\n",
    "    accuracies.append((tp+tn)/(tp+tn+fp+fn))\n",
    "    precisions.append((tp/(tp+fp), tn/(tn+fn)))\n",
    "    recalls.append((tp/(tp+fn), tn/(tn+fp)))"
   ]
  },
  {
   "cell_type": "code",
   "execution_count": null,
   "metadata": {},
   "outputs": [],
   "source": [
    "print('--------Results--------')\n",
    "print(f\"Accuracy mean: {np.mean(accuracies).round(4)*100}%, stdev: {np.std(accuracies).round(4)*100}%\")\n",
    "\n",
    "print(\"----Class 1----\")\n",
    "print(f\"Precision mean: {np.mean([precision[0] for precision in precisions]).round(4)*100}%, stdev: {np.std([precision[0] for precision in precisions]).round(4)*100}%\")\n",
    "print(f\"Recall mean: {np.mean([recall[0] for recall in recalls]).round(4)*100}%, stdev: {np.std([recall[0] for recall in recalls]).round(4)*100}%\")\n",
    "\n",
    "print(\"----Class -1----\")\n",
    "print(f\"Precision mean: {np.mean([precision[1] for precision in precisions]).round(4)*100}%, stdev: {np.std([precision[1] for precision in precisions]).round(4)*100}%\")\n",
    "print(f\"Recall mean: {np.mean([recall[1] for recall in recalls]).round(4)*100}%, stdev: {np.std([recall[1] for recall in recalls]).round(4)*100}%\")"
   ]
  },
  {
   "cell_type": "code",
   "execution_count": null,
   "metadata": {},
   "outputs": [],
   "source": []
  }
 ],
 "metadata": {
  "kernelspec": {
   "display_name": "crux",
   "language": "python",
   "name": "python3"
  },
  "language_info": {
   "codemirror_mode": {
    "name": "ipython",
    "version": 3
   },
   "file_extension": ".py",
   "mimetype": "text/x-python",
   "name": "python",
   "nbconvert_exporter": "python",
   "pygments_lexer": "ipython3",
   "version": "3.10.9"
  },
  "orig_nbformat": 4,
  "vscode": {
   "interpreter": {
    "hash": "810500268b1047ca9e13a7cfd3c0a1937881146f656ac4aa33d94be40d30cf88"
   }
  }
 },
 "nbformat": 4,
 "nbformat_minor": 2
}
