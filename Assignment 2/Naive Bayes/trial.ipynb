{
 "cells": [
  {
   "attachments": {},
   "cell_type": "markdown",
   "metadata": {},
   "source": [
    "# Naive Bayes Algorithm"
   ]
  },
  {
   "cell_type": "code",
   "execution_count": 29,
   "metadata": {},
   "outputs": [],
   "source": [
    "import pandas as pd\n",
    "from NaiveBayes import NaiveBayes\n",
    "from sklearn.model_selection import train_test_split\n",
    "import numpy as np\n",
    "import random "
   ]
  },
  {
   "cell_type": "code",
   "execution_count": 30,
   "metadata": {},
   "outputs": [],
   "source": [
    "df = pd.read_csv(\"adult.data\", header=None)\n",
    "df.columns = [\"age\", \"work-class\", \"fnlwgt\", \"education\", \"education-num\", \"maritial-status\", \"occupation\", \"relationship\", \"race\", \"sex\", \"capital-gain\", \"capital-loss\", \"hours-per-week\", \"native-country\", \"income\"]"
   ]
  },
  {
   "attachments": {},
   "cell_type": "markdown",
   "metadata": {},
   "source": [
    "## Preprocessing the data"
   ]
  },
  {
   "cell_type": "code",
   "execution_count": 31,
   "metadata": {},
   "outputs": [],
   "source": [
    "df = df.replace(\" ?\", np.nan)"
   ]
  },
  {
   "cell_type": "code",
   "execution_count": 32,
   "metadata": {},
   "outputs": [
    {
     "data": {
      "text/plain": [
       "4262"
      ]
     },
     "execution_count": 32,
     "metadata": {},
     "output_type": "execute_result"
    }
   ],
   "source": [
    "df.isna().sum().sum()"
   ]
  },
  {
   "cell_type": "code",
   "execution_count": 33,
   "metadata": {},
   "outputs": [
    {
     "name": "stdout",
     "output_type": "stream",
     "text": [
      "<class 'pandas.core.frame.DataFrame'>\n",
      "RangeIndex: 32561 entries, 0 to 32560\n",
      "Data columns (total 15 columns):\n",
      " #   Column           Non-Null Count  Dtype \n",
      "---  ------           --------------  ----- \n",
      " 0   age              32561 non-null  int64 \n",
      " 1   work-class       30725 non-null  object\n",
      " 2   fnlwgt           32561 non-null  int64 \n",
      " 3   education        32561 non-null  object\n",
      " 4   education-num    32561 non-null  int64 \n",
      " 5   maritial-status  32561 non-null  object\n",
      " 6   occupation       30718 non-null  object\n",
      " 7   relationship     32561 non-null  object\n",
      " 8   race             32561 non-null  object\n",
      " 9   sex              32561 non-null  object\n",
      " 10  capital-gain     32561 non-null  int64 \n",
      " 11  capital-loss     32561 non-null  int64 \n",
      " 12  hours-per-week   32561 non-null  int64 \n",
      " 13  native-country   31978 non-null  object\n",
      " 14  income           32561 non-null  object\n",
      "dtypes: int64(6), object(9)\n",
      "memory usage: 3.7+ MB\n"
     ]
    }
   ],
   "source": [
    "df.info()"
   ]
  },
  {
   "cell_type": "code",
   "execution_count": 34,
   "metadata": {},
   "outputs": [],
   "source": [
    "def impute(df):\n",
    "    for column in df.columns:\n",
    "        if df[column].dtype == \"object\":\n",
    "            df[column] = df[column].fillna(df[column].mode()[0])\n",
    "        else:\n",
    "            df[column] = df[column].fillna(df[column].mean())"
   ]
  },
  {
   "cell_type": "code",
   "execution_count": 35,
   "metadata": {},
   "outputs": [],
   "source": [
    "impute(df)"
   ]
  },
  {
   "cell_type": "code",
   "execution_count": 36,
   "metadata": {},
   "outputs": [
    {
     "data": {
      "text/plain": [
       "0"
      ]
     },
     "execution_count": 36,
     "metadata": {},
     "output_type": "execute_result"
    }
   ],
   "source": [
    "df.isna().sum().sum()"
   ]
  },
  {
   "attachments": {},
   "cell_type": "markdown",
   "metadata": {},
   "source": [
    "## Training and testing the data"
   ]
  },
  {
   "cell_type": "code",
   "execution_count": 37,
   "metadata": {},
   "outputs": [],
   "source": [
    "train_splits = []"
   ]
  },
  {
   "cell_type": "code",
   "execution_count": 38,
   "metadata": {},
   "outputs": [],
   "source": [
    "for i in range(10):\n",
    "    train, test = train_test_split(df, test_size=0.33, random_state=random.randint(0,100))\n",
    "    train.reset_index(drop=True, inplace=True)\n",
    "    test.reset_index(drop=True, inplace=True)\n",
    "    train_splits.append((train,test))"
   ]
  },
  {
   "cell_type": "code",
   "execution_count": 39,
   "metadata": {},
   "outputs": [],
   "source": [
    "results_list = []"
   ]
  },
  {
   "cell_type": "code",
   "execution_count": 40,
   "metadata": {},
   "outputs": [
    {
     "name": "stdout",
     "output_type": "stream",
     "text": [
      "Accuracy for split 1 : 0.8355667225013959\n",
      "Accuracy for split 2 : 0.8332402754513307\n",
      "Accuracy for split 3 : 0.8306346547552578\n",
      "Accuracy for split 4 : 0.8317513493392891\n",
      "Accuracy for split 5 : 0.8342639121533594\n",
      "Accuracy for split 6 : 0.8351944909733855\n",
      "Accuracy for split 7 : 0.8258887027731249\n",
      "Accuracy for split 8 : 0.8309138284012656\n",
      "Accuracy for split 9 : 0.8337055648613437\n",
      "Accuracy for split 10 : 0.837893169551461\n"
     ]
    }
   ],
   "source": [
    "for i,(train,test) in enumerate(train_splits):\n",
    "    accuracies_dict = {}\n",
    "\n",
    "    integer_columns = [\"age\", \"fnlwgt\", \"education-num\", \"capital-gain\", \"capital-loss\", \"hours-per-week\"]\n",
    "    ranges: dict[str, np.array] = dict()\n",
    "    def convert_from_integer_to_range(df, columns, n_bins=100, _test=False):\n",
    "        for column in columns:\n",
    "            if not _test:\n",
    "                ranges[column] = pd.cut(df[column], bins=n_bins, labels=False, retbins=True)[1]\n",
    "            df[column] = pd.cut(df[column], bins=ranges[column], labels=False)\n",
    "    convert_from_integer_to_range(train, integer_columns)\n",
    "    naive = NaiveBayes(train, \"income\")\n",
    "    convert_from_integer_to_range(test, integer_columns, _test=True)\n",
    "    tp,tn,fp,fn = naive.accuracy(test)\n",
    "    print(\"Accuracy for split {0} : {1}\".format(i+1,(tp+tn)/(tp+tn+fp+fn)))\n",
    "    accuracies_dict[\"index\"] = f\"Accuracy {i+1}\"\n",
    "    accuracies_dict[\"accuracy\"]= (tp+tn)/(tp+tn+fp+fn)\n",
    "    accuracies_dict['precision'] = (tp)/(tp+fp)\n",
    "    accuracies_dict['recall'] = (tp)/(tp+fn)\n",
    "    accuracies_dict['f1 score'] = (2*accuracies_dict['recall']*accuracies_dict['precision'])/(accuracies_dict['precision'] + accuracies_dict['recall'])\n",
    "    results_list.append(accuracies_dict)\n"
   ]
  },
  {
   "cell_type": "code",
   "execution_count": 41,
   "metadata": {},
   "outputs": [
    {
     "data": {
      "text/html": [
       "<div>\n",
       "<style scoped>\n",
       "    .dataframe tbody tr th:only-of-type {\n",
       "        vertical-align: middle;\n",
       "    }\n",
       "\n",
       "    .dataframe tbody tr th {\n",
       "        vertical-align: top;\n",
       "    }\n",
       "\n",
       "    .dataframe thead th {\n",
       "        text-align: right;\n",
       "    }\n",
       "</style>\n",
       "<table border=\"1\" class=\"dataframe\">\n",
       "  <thead>\n",
       "    <tr style=\"text-align: right;\">\n",
       "      <th></th>\n",
       "      <th>index</th>\n",
       "      <th>accuracy</th>\n",
       "      <th>precision</th>\n",
       "      <th>recall</th>\n",
       "      <th>f1 score</th>\n",
       "    </tr>\n",
       "  </thead>\n",
       "  <tbody>\n",
       "    <tr>\n",
       "      <th>0</th>\n",
       "      <td>Accuracy 1</td>\n",
       "      <td>0.835567</td>\n",
       "      <td>0.791004</td>\n",
       "      <td>0.624235</td>\n",
       "      <td>0.697794</td>\n",
       "    </tr>\n",
       "    <tr>\n",
       "      <th>1</th>\n",
       "      <td>Accuracy 2</td>\n",
       "      <td>0.833240</td>\n",
       "      <td>0.793483</td>\n",
       "      <td>0.614846</td>\n",
       "      <td>0.692835</td>\n",
       "    </tr>\n",
       "    <tr>\n",
       "      <th>2</th>\n",
       "      <td>Accuracy 3</td>\n",
       "      <td>0.830635</td>\n",
       "      <td>0.782609</td>\n",
       "      <td>0.612320</td>\n",
       "      <td>0.687070</td>\n",
       "    </tr>\n",
       "    <tr>\n",
       "      <th>3</th>\n",
       "      <td>Accuracy 4</td>\n",
       "      <td>0.831751</td>\n",
       "      <td>0.847882</td>\n",
       "      <td>0.923880</td>\n",
       "      <td>0.884251</td>\n",
       "    </tr>\n",
       "    <tr>\n",
       "      <th>4</th>\n",
       "      <td>Accuracy 5</td>\n",
       "      <td>0.834264</td>\n",
       "      <td>0.849219</td>\n",
       "      <td>0.925603</td>\n",
       "      <td>0.885767</td>\n",
       "    </tr>\n",
       "    <tr>\n",
       "      <th>5</th>\n",
       "      <td>Accuracy 6</td>\n",
       "      <td>0.835194</td>\n",
       "      <td>0.848191</td>\n",
       "      <td>0.928456</td>\n",
       "      <td>0.886511</td>\n",
       "    </tr>\n",
       "    <tr>\n",
       "      <th>6</th>\n",
       "      <td>Accuracy 7</td>\n",
       "      <td>0.825889</td>\n",
       "      <td>0.841584</td>\n",
       "      <td>0.920038</td>\n",
       "      <td>0.879064</td>\n",
       "    </tr>\n",
       "    <tr>\n",
       "      <th>7</th>\n",
       "      <td>Accuracy 8</td>\n",
       "      <td>0.830914</td>\n",
       "      <td>0.845051</td>\n",
       "      <td>0.925916</td>\n",
       "      <td>0.883638</td>\n",
       "    </tr>\n",
       "    <tr>\n",
       "      <th>8</th>\n",
       "      <td>Accuracy 9</td>\n",
       "      <td>0.833706</td>\n",
       "      <td>0.790898</td>\n",
       "      <td>0.616514</td>\n",
       "      <td>0.692903</td>\n",
       "    </tr>\n",
       "    <tr>\n",
       "      <th>9</th>\n",
       "      <td>Accuracy 10</td>\n",
       "      <td>0.837893</td>\n",
       "      <td>0.852948</td>\n",
       "      <td>0.929007</td>\n",
       "      <td>0.889355</td>\n",
       "    </tr>\n",
       "  </tbody>\n",
       "</table>\n",
       "</div>"
      ],
      "text/plain": [
       "         index  accuracy  precision    recall  f1 score\n",
       "0   Accuracy 1  0.835567   0.791004  0.624235  0.697794\n",
       "1   Accuracy 2  0.833240   0.793483  0.614846  0.692835\n",
       "2   Accuracy 3  0.830635   0.782609  0.612320  0.687070\n",
       "3   Accuracy 4  0.831751   0.847882  0.923880  0.884251\n",
       "4   Accuracy 5  0.834264   0.849219  0.925603  0.885767\n",
       "5   Accuracy 6  0.835194   0.848191  0.928456  0.886511\n",
       "6   Accuracy 7  0.825889   0.841584  0.920038  0.879064\n",
       "7   Accuracy 8  0.830914   0.845051  0.925916  0.883638\n",
       "8   Accuracy 9  0.833706   0.790898  0.616514  0.692903\n",
       "9  Accuracy 10  0.837893   0.852948  0.929007  0.889355"
      ]
     },
     "execution_count": 41,
     "metadata": {},
     "output_type": "execute_result"
    }
   ],
   "source": [
    "results = pd.DataFrame.from_records(results_list)\n",
    "results"
   ]
  },
  {
   "cell_type": "code",
   "execution_count": 42,
   "metadata": {},
   "outputs": [
    {
     "name": "stdout",
     "output_type": "stream",
     "text": [
      "Mean for 10 splits is 0.8329052670761212\n",
      "Standard deviation for 10 splits is 0.003324770582014348\n",
      "Average precision for 10 splits is 0.824287029594134\n",
      "Average recall for 10 splits is 0.8020815574020963\n"
     ]
    }
   ],
   "source": [
    "print(f\"Mean for 10 splits is {results['accuracy'].mean()}\")\n",
    "print(f\"Standard deviation for 10 splits is {results['accuracy'].std()}\")\n",
    "print(f\"Average precision for 10 splits is {results['precision'].mean()}\")\n",
    "print(f\"Average recall for 10 splits is {results['recall'].mean()}\")"
   ]
  }
 ],
 "metadata": {
  "kernelspec": {
   "display_name": "ml",
   "language": "python",
   "name": "python3"
  },
  "language_info": {
   "codemirror_mode": {
    "name": "ipython",
    "version": 3
   },
   "file_extension": ".py",
   "mimetype": "text/x-python",
   "name": "python",
   "nbconvert_exporter": "python",
   "pygments_lexer": "ipython3",
   "version": "3.11.2"
  },
  "orig_nbformat": 4
 },
 "nbformat": 4,
 "nbformat_minor": 2
}
