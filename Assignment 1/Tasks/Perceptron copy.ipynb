{
 "cells": [
  {
   "attachments": {},
   "cell_type": "markdown",
   "metadata": {},
   "source": [
    "# Perceptron Algorithm"
   ]
  },
  {
   "attachments": {},
   "cell_type": "markdown",
   "metadata": {},
   "source": [
    "## Learning Task 1\n",
    "\n",
    "Build a classifier using the perceptron algorithm. Figure out if dataset is linearly seperable."
   ]
  },
  {
   "cell_type": "code",
   "execution_count": 77,
   "metadata": {},
   "outputs": [],
   "source": [
    "import numpy as np\n",
    "import pandas as pd\n",
    "import random\n",
    "import sys\n",
    "sys.path.append(\"..\")\n",
    "from preprocessor import Preprocessor\n",
    "from Models.Perceptron import Perceptron\n",
    "import warnings \n",
    "warnings.filterwarnings(action=\"ignore\")"
   ]
  },
  {
   "cell_type": "code",
   "execution_count": 78,
   "metadata": {},
   "outputs": [],
   "source": [
    "dataset = pd.read_csv(\"../dataset.csv\")\n",
    "dataset.drop(columns=[\"id\"],inplace=True)"
   ]
  },
  {
   "cell_type": "code",
   "execution_count": 79,
   "metadata": {},
   "outputs": [],
   "source": [
    "preprocessor = Preprocessor(dataset,\"diagnosis\")\n",
    "splits = preprocessor.preprocess(drop_na=True,n_splits=10,standardize=False,labels=[-1,1]) # splitting into training and testing"
   ]
  },
  {
   "attachments": {},
   "cell_type": "markdown",
   "metadata": {},
   "source": [
    "### Using training data as given"
   ]
  },
  {
   "cell_type": "code",
   "execution_count": 80,
   "metadata": {},
   "outputs": [],
   "source": [
    "#PM1 is perceptron model 1 without shuffling training data\n",
    "pm1 = Perceptron()\n",
    "train, test = splits[0]\n",
    "X_train, y_train = train.drop(columns=[\"diagnosis\"]).to_numpy(), train[\"diagnosis\"].to_numpy()\n",
    "X_test, y_test = test.drop(columns=[\"diagnosis\"]).to_numpy(), test[\"diagnosis\"].to_numpy()"
   ]
  },
  {
   "attachments": {},
   "cell_type": "markdown",
   "metadata": {},
   "source": [
    "#### Using an infinite loop for the model"
   ]
  },
  {
   "cell_type": "code",
   "execution_count": 81,
   "metadata": {},
   "outputs": [
    {
     "name": "stdout",
     "output_type": "stream",
     "text": [
      "Breaking as not improving\n"
     ]
    }
   ],
   "source": [
    "pm1.fit(X_train,y_train,True)"
   ]
  },
  {
   "cell_type": "code",
   "execution_count": 82,
   "metadata": {},
   "outputs": [
    {
     "name": "stdout",
     "output_type": "stream",
     "text": [
      "--------Results--------\n",
      "Accuracy: 0.8986301369863013\n",
      "----Class 1----\n",
      "Precision: 0.7686567164179104\n",
      "Recall: 0.944954128440367\n",
      "----Class 0----\n",
      "Precision: 0.974025974025974\n",
      "Recall: 0.87890625\n"
     ]
    },
    {
     "data": {
      "text/plain": [
       "(103, 225, 31, 6)"
      ]
     },
     "execution_count": 82,
     "metadata": {},
     "output_type": "execute_result"
    }
   ],
   "source": [
    "pm1.score(X_train,y_train,_print = True)"
   ]
  },
  {
   "cell_type": "code",
   "execution_count": 83,
   "metadata": {},
   "outputs": [
    {
     "name": "stdout",
     "output_type": "stream",
     "text": [
      "--------Results--------\n",
      "Accuracy: 0.9343434343434344\n",
      "----Class 1----\n",
      "Precision: 0.9587628865979382\n",
      "Recall: 0.9117647058823529\n",
      "----Class 0----\n",
      "Precision: 0.9108910891089109\n",
      "Recall: 0.9583333333333334\n"
     ]
    }
   ],
   "source": [
    "tp,tn,fp,fn=pm1.score(X_test,y_test,_print=True)"
   ]
  },
  {
   "attachments": {},
   "cell_type": "markdown",
   "metadata": {},
   "source": [
    "#### Using epochs instead of infinite model"
   ]
  },
  {
   "cell_type": "code",
   "execution_count": 84,
   "metadata": {},
   "outputs": [],
   "source": [
    "pm1.fit(X_train,y_train,False,epochs=10000)\n",
    "## As epochs increases we break if if we get 100 percent accuracy"
   ]
  },
  {
   "cell_type": "code",
   "execution_count": 85,
   "metadata": {},
   "outputs": [
    {
     "name": "stdout",
     "output_type": "stream",
     "text": [
      "--------Results--------\n",
      "Accuracy: 0.8383838383838383\n",
      "----Class 1----\n",
      "Precision: 1.0\n",
      "Recall: 0.6862745098039216\n",
      "----Class 0----\n",
      "Precision: 0.75\n",
      "Recall: 1.0\n"
     ]
    }
   ],
   "source": [
    "tp,tn,fp,fn=pm1.score(X_test,y_test,_print=True)\n",
    "acc = (tp+tn)/(tp+tn+fp+fn)\n",
    "### Shuffling the training data"
   ]
  },
  {
   "attachments": {},
   "cell_type": "markdown",
   "metadata": {},
   "source": [
    "### Shuffling the training data"
   ]
  },
  {
   "cell_type": "code",
   "execution_count": 86,
   "metadata": {},
   "outputs": [],
   "source": [
    "train = train.sample(random_state=42)"
   ]
  },
  {
   "cell_type": "code",
   "execution_count": 87,
   "metadata": {},
   "outputs": [],
   "source": [
    "pm2 = Perceptron()\n",
    "X_train, y_train = train.drop(columns=[\"diagnosis\"]).to_numpy(), train[\"diagnosis\"].to_numpy()\n",
    "X_test, y_test = test.drop(columns=[\"diagnosis\"]).to_numpy(), test[\"diagnosis\"].to_numpy()\n",
    "#### Using an infinite loop with some threshold"
   ]
  },
  {
   "attachments": {},
   "cell_type": "markdown",
   "metadata": {},
   "source": [
    "#### Using an infinite loop with some threshold"
   ]
  },
  {
   "cell_type": "code",
   "execution_count": 88,
   "metadata": {},
   "outputs": [
    {
     "name": "stdout",
     "output_type": "stream",
     "text": [
      "Breaking as learnt perfect decision boundary\n"
     ]
    }
   ],
   "source": [
    "pm2.fit(X_train,y_train,inf_loop=True)"
   ]
  },
  {
   "cell_type": "code",
   "execution_count": 89,
   "metadata": {},
   "outputs": [
    {
     "name": "stdout",
     "output_type": "stream",
     "text": [
      "--------Results--------\n",
      "Accuracy: 0.8383838383838383\n",
      "----Class 1----\n",
      "Precision: 1.0\n",
      "Recall: 0.6862745098039216\n",
      "----Class 0----\n",
      "Precision: 0.75\n",
      "Recall: 1.0\n"
     ]
    }
   ],
   "source": [
    "tp,tn,fp,fn=pm1.score(X_test,y_test,_print=True)"
   ]
  },
  {
   "attachments": {},
   "cell_type": "markdown",
   "metadata": {},
   "source": [
    "#### Using epochs"
   ]
  },
  {
   "cell_type": "code",
   "execution_count": 90,
   "metadata": {},
   "outputs": [],
   "source": [
    "pm2.fit(X_train,y_train,inf_loop=False,epochs = 1000)"
   ]
  },
  {
   "cell_type": "code",
   "execution_count": 91,
   "metadata": {},
   "outputs": [
    {
     "name": "stdout",
     "output_type": "stream",
     "text": [
      "--------Results--------\n",
      "Accuracy: 0.8383838383838383\n",
      "----Class 1----\n",
      "Precision: 1.0\n",
      "Recall: 0.6862745098039216\n",
      "----Class 0----\n",
      "Precision: 0.75\n",
      "Recall: 1.0\n"
     ]
    }
   ],
   "source": [
    "tp,tn,fp,fn=pm1.score(X_test,y_test,_print=True)"
   ]
  },
  {
   "attachments": {},
   "cell_type": "markdown",
   "metadata": {},
   "source": [
    "## Learning Task 2\n",
    "\n",
    "Build a perceptron model on normalized data"
   ]
  },
  {
   "cell_type": "code",
   "execution_count": 92,
   "metadata": {},
   "outputs": [],
   "source": [
    "splits = preprocessor.preprocess(n_splits=1,standardize=True,labels=[-1,1]) # splitting into training and testing\n",
    "train, test = splits[0]\n",
    "X_train, y_train = train.drop(columns=[\"diagnosis\"]).to_numpy(), train[\"diagnosis\"].to_numpy()\n",
    "X_test, y_test = test.drop(columns=[\"diagnosis\"]).to_numpy(), test[\"diagnosis\"].to_numpy()"
   ]
  },
  {
   "attachments": {},
   "cell_type": "markdown",
   "metadata": {},
   "source": [
    "### Using an infinite loop that terminates on some learning threshold"
   ]
  },
  {
   "cell_type": "code",
   "execution_count": 93,
   "metadata": {},
   "outputs": [
    {
     "name": "stdout",
     "output_type": "stream",
     "text": [
      "Breaking as learnt perfect decision boundary\n"
     ]
    }
   ],
   "source": [
    "pm3 = Perceptron()\n",
    "pm3.fit(X_train,y_train,inf_loop=True)"
   ]
  },
  {
   "cell_type": "code",
   "execution_count": 94,
   "metadata": {},
   "outputs": [
    {
     "name": "stdout",
     "output_type": "stream",
     "text": [
      "--------Results--------\n",
      "Accuracy: 0.9545454545454546\n",
      "----Class 1----\n",
      "Precision: 0.9696969696969697\n",
      "Recall: 0.9411764705882353\n",
      "----Class 0----\n",
      "Precision: 0.9393939393939394\n",
      "Recall: 0.96875\n"
     ]
    }
   ],
   "source": [
    "tp,tn,fp,fn = pm3.score(X_test,y_test,_print=True)\n"
   ]
  },
  {
   "attachments": {},
   "cell_type": "markdown",
   "metadata": {},
   "source": [
    "## Learning Task 3\n",
    "\n",
    "Change the order of the features in the dataset randomly and build a perceptron model"
   ]
  },
  {
   "cell_type": "code",
   "execution_count": 105,
   "metadata": {},
   "outputs": [],
   "source": [
    "splits = preprocessor.preprocess(drop_na=True,n_splits=10,standardize=False,labels=[-1,1]) # splitting into training and testing\n",
    "train, test = splits[0]\n",
    "seed = random.randint(0,100)\n",
    "train = train.sample(frac=1,axis = 1,random_state=23)\n",
    "test = test.sample(frac=1,axis = 1,random_state=23)\n",
    "X_train, y_train = train.drop(columns=[\"diagnosis\"]).to_numpy(), train[\"diagnosis\"].to_numpy()\n",
    "X_test, y_test = test.drop(columns=[\"diagnosis\"]).to_numpy(), test[\"diagnosis\"].to_numpy()"
   ]
  },
  {
   "attachments": {},
   "cell_type": "markdown",
   "metadata": {},
   "source": [
    "### Using an infinite loop "
   ]
  },
  {
   "cell_type": "code",
   "execution_count": 107,
   "metadata": {},
   "outputs": [
    {
     "name": "stdout",
     "output_type": "stream",
     "text": [
      "Breaking as not improving\n"
     ]
    }
   ],
   "source": [
    "pm4 = Perceptron()\n",
    "pm4.fit(X_train,y_train,inf_loop=True)"
   ]
  },
  {
   "cell_type": "code",
   "execution_count": 109,
   "metadata": {},
   "outputs": [
    {
     "name": "stdout",
     "output_type": "stream",
     "text": [
      "--------Results--------\n",
      "Accuracy: 0.9343434343434344\n",
      "----Class 1----\n",
      "Precision: 0.9587628865979382\n",
      "Recall: 0.9117647058823529\n",
      "----Class 0----\n",
      "Precision: 0.9108910891089109\n",
      "Recall: 0.9583333333333334\n"
     ]
    },
    {
     "data": {
      "text/plain": [
       "(93, 92, 4, 9)"
      ]
     },
     "execution_count": 109,
     "metadata": {},
     "output_type": "execute_result"
    }
   ],
   "source": [
    "pm4.score(X_test,y_test,_print = True)"
   ]
  }
 ],
 "metadata": {
  "kernelspec": {
   "display_name": "ml",
   "language": "python",
   "name": "python3"
  },
  "language_info": {
   "codemirror_mode": {
    "name": "ipython",
    "version": 3
   },
   "file_extension": ".py",
   "mimetype": "text/x-python",
   "name": "python",
   "nbconvert_exporter": "python",
   "pygments_lexer": "ipython3",
   "version": "3.10.9"
  },
  "orig_nbformat": 4
 },
 "nbformat": 4,
 "nbformat_minor": 2
}
