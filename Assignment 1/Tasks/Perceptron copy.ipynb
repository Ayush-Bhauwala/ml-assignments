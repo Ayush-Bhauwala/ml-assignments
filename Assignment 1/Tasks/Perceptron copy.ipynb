{
 "cells": [
  {
   "attachments": {},
   "cell_type": "markdown",
   "metadata": {},
   "source": [
    "# Perceptron Algorithm"
   ]
  },
  {
   "attachments": {},
   "cell_type": "markdown",
   "metadata": {},
   "source": [
    "## Learning Task 1\n",
    "\n",
    "Build a classifier using the perceptron algorithm. Figure out if dataset is linearly seperable."
   ]
  },
  {
   "cell_type": "code",
   "execution_count": 124,
   "metadata": {},
   "outputs": [],
   "source": [
    "import numpy as np\n",
    "import pandas as pd\n",
    "import sys\n",
    "sys.path.append(\"..\")\n",
    "from preprocessor import Preprocessor\n",
    "from Models.Perceptron import Perceptron\n",
    "import warnings \n",
    "warnings.filterwarnings(action=\"ignore\")"
   ]
  },
  {
   "cell_type": "code",
   "execution_count": 125,
   "metadata": {},
   "outputs": [],
   "source": [
    "dataset = pd.read_csv(\"../dataset.csv\")"
   ]
  },
  {
   "cell_type": "code",
   "execution_count": 126,
   "metadata": {},
   "outputs": [],
   "source": [
    "preprocessor = Preprocessor(dataset,\"diagnosis\")\n",
    "splits = preprocessor.preprocess(n_splits=10,standardize=False,labels=[-1,1]) # splitting into training and testing"
   ]
  },
  {
   "attachments": {},
   "cell_type": "markdown",
   "metadata": {},
   "source": [
    "### Using training data as given"
   ]
  },
  {
   "cell_type": "code",
   "execution_count": 127,
   "metadata": {},
   "outputs": [],
   "source": [
    "#PM1 is perceptron model 1 without shuffling training data\n",
    "pm1 = Perceptron()\n",
    "train, test = splits[0]\n",
    "X_train, y_train = train.drop(columns=[\"diagnosis\"]).to_numpy(), train[\"diagnosis\"].to_numpy()\n",
    "X_test, y_test = test.drop(columns=[\"diagnosis\"]).to_numpy(), test[\"diagnosis\"].to_numpy()"
   ]
  },
  {
   "attachments": {},
   "cell_type": "markdown",
   "metadata": {},
   "source": [
    "#### Using an infinite loop for the model"
   ]
  },
  {
   "cell_type": "code",
   "execution_count": 128,
   "metadata": {},
   "outputs": [
    {
     "name": "stdout",
     "output_type": "stream",
     "text": [
      "0.5232876712328767\n",
      "0.5260273972602739\n",
      "0.5260273972602739\n",
      "0.5260273972602739\n",
      "0.5260273972602739\n",
      "0.5232876712328767\n",
      "0.5232876712328767\n",
      "0.5232876712328767\n",
      "0.5232876712328767\n",
      "0.5232876712328767\n",
      "0.5232876712328767\n",
      "0.5232876712328767\n",
      "0.5232876712328767\n",
      "0.5232876712328767\n",
      "0.5232876712328767\n",
      "0.5232876712328767\n",
      "0.5287671232876713\n",
      "0.5287671232876713\n",
      "0.5287671232876713\n",
      "0.5287671232876713\n",
      "0.5287671232876713\n",
      "0.5260273972602739\n",
      "0.5232876712328767\n",
      "0.5232876712328767\n",
      "0.5232876712328767\n",
      "0.5232876712328767\n",
      "0.5232876712328767\n",
      "0.5232876712328767\n",
      "0.5232876712328767\n",
      "0.5232876712328767\n",
      "0.5232876712328767\n",
      "0.5232876712328767\n",
      "0.5232876712328767\n",
      "0.5232876712328767\n",
      "0.5232876712328767\n",
      "0.5232876712328767\n",
      "0.5232876712328767\n",
      "0.5232876712328767\n",
      "0.5232876712328767\n",
      "0.5287671232876713\n",
      "0.5287671232876713\n",
      "0.5287671232876713\n",
      "0.5287671232876713\n",
      "0.5287671232876713\n",
      "0.5287671232876713\n",
      "0.5287671232876713\n",
      "0.5287671232876713\n",
      "0.5287671232876713\n",
      "0.5287671232876713\n",
      "0.5287671232876713\n",
      "0.5287671232876713\n",
      "0.5260273972602739\n",
      "0.5232876712328767\n",
      "0.5232876712328767\n",
      "0.5232876712328767\n",
      "0.5232876712328767\n",
      "0.5232876712328767\n",
      "0.5232876712328767\n",
      "0.5232876712328767\n",
      "0.5232876712328767\n",
      "0.5232876712328767\n",
      "0.5287671232876713\n",
      "0.5287671232876713\n",
      "0.5287671232876713\n",
      "0.5287671232876713\n",
      "0.5287671232876713\n",
      "0.5287671232876713\n",
      "0.5287671232876713\n",
      "0.5287671232876713\n",
      "0.5287671232876713\n",
      "0.5287671232876713\n",
      "0.5287671232876713\n",
      "0.5287671232876713\n",
      "0.5287671232876713\n",
      "0.5287671232876713\n",
      "0.5287671232876713\n",
      "0.5287671232876713\n",
      "0.5287671232876713\n",
      "0.5287671232876713\n",
      "0.5287671232876713\n",
      "0.5287671232876713\n",
      "0.5260273972602739\n",
      "0.5232876712328767\n",
      "0.5232876712328767\n",
      "0.5287671232876713\n",
      "0.5287671232876713\n",
      "0.5287671232876713\n",
      "0.5287671232876713\n",
      "0.5287671232876713\n",
      "0.5287671232876713\n",
      "0.5287671232876713\n",
      "0.5287671232876713\n",
      "0.5287671232876713\n",
      "0.5287671232876713\n",
      "0.5287671232876713\n",
      "0.5287671232876713\n",
      "0.5287671232876713\n",
      "0.5287671232876713\n",
      "0.5287671232876713\n",
      "0.5287671232876713\n",
      "0.5287671232876713\n",
      "0.5287671232876713\n",
      "0.5287671232876713\n",
      "0.5287671232876713\n",
      "0.5287671232876713\n",
      "0.5287671232876713\n",
      "0.5287671232876713\n",
      "0.5287671232876713\n",
      "0.5287671232876713\n",
      "0.5287671232876713\n",
      "0.5287671232876713\n",
      "0.5260273972602739\n",
      "0.5287671232876713\n",
      "0.5287671232876713\n",
      "Breaking as not improving\n"
     ]
    }
   ],
   "source": [
    "pm1.fit(X_train,y_train,True)"
   ]
  },
  {
   "cell_type": "code",
   "execution_count": 129,
   "metadata": {},
   "outputs": [
    {
     "name": "stdout",
     "output_type": "stream",
     "text": [
      "--------Results--------\n",
      "Accuracy: 0.29863013698630136\n",
      "----Class 1----\n",
      "Precision: 0.29863013698630136\n",
      "Recall: 1.0\n",
      "----Class 0----\n",
      "Precision: nan\n",
      "Recall: 0.0\n"
     ]
    },
    {
     "data": {
      "text/plain": [
       "(109, 0.0, 256, 0.0)"
      ]
     },
     "execution_count": 129,
     "metadata": {},
     "output_type": "execute_result"
    }
   ],
   "source": [
    "pm1.score(X_train,y_train,_print = True)"
   ]
  },
  {
   "cell_type": "code",
   "execution_count": 130,
   "metadata": {},
   "outputs": [
    {
     "name": "stdout",
     "output_type": "stream",
     "text": [
      "--------Results--------\n",
      "Accuracy: 0.5151515151515151\n",
      "----Class 1----\n",
      "Precision: 0.5151515151515151\n",
      "Recall: 1.0\n",
      "----Class 0----\n",
      "Precision: nan\n",
      "Recall: 0.0\n"
     ]
    }
   ],
   "source": [
    "tp,tn,fp,fn=pm1.score(X_test,y_test,_print=True)"
   ]
  },
  {
   "attachments": {},
   "cell_type": "markdown",
   "metadata": {},
   "source": [
    "#### Using epochs instead of infinite model"
   ]
  },
  {
   "cell_type": "code",
   "execution_count": 131,
   "metadata": {},
   "outputs": [],
   "source": [
    "pm1.fit(X_train,y_train,False,epochs=10000)\n",
    "## As epochs increases we break if if we get 100 percent accuracy"
   ]
  },
  {
   "cell_type": "code",
   "execution_count": 132,
   "metadata": {},
   "outputs": [
    {
     "name": "stdout",
     "output_type": "stream",
     "text": [
      "--------Results--------\n",
      "Accuracy: 0.5151515151515151\n",
      "----Class 1----\n",
      "Precision: 0.5151515151515151\n",
      "Recall: 1.0\n",
      "----Class 0----\n",
      "Precision: nan\n",
      "Recall: 0.0\n"
     ]
    }
   ],
   "source": [
    "tp,tn,fp,fn=pm1.score(X_test,y_test,_print=True)\n",
    "acc = (tp+tn)/(tp+tn+fp+fn)\n",
    "### Shuffling the training data"
   ]
  },
  {
   "attachments": {},
   "cell_type": "markdown",
   "metadata": {},
   "source": [
    "### Shuffling the training data"
   ]
  },
  {
   "cell_type": "code",
   "execution_count": 133,
   "metadata": {},
   "outputs": [],
   "source": [
    "train = train.sample(random_state=42)"
   ]
  },
  {
   "cell_type": "code",
   "execution_count": 134,
   "metadata": {},
   "outputs": [],
   "source": [
    "pm2 = Perceptron()\n",
    "X_train, y_train = train.drop(columns=[\"diagnosis\"]).to_numpy(), train[\"diagnosis\"].to_numpy()\n",
    "X_test, y_test = test.drop(columns=[\"diagnosis\"]).to_numpy(), test[\"diagnosis\"].to_numpy()\n",
    "#### Using an infinite loop with some threshold"
   ]
  },
  {
   "attachments": {},
   "cell_type": "markdown",
   "metadata": {},
   "source": [
    "#### Using an infinite loop with some threshold"
   ]
  },
  {
   "cell_type": "code",
   "execution_count": 135,
   "metadata": {},
   "outputs": [
    {
     "name": "stdout",
     "output_type": "stream",
     "text": [
      "0.0\n",
      "Breaking as learnt perfect decision boundary\n"
     ]
    }
   ],
   "source": [
    "pm2.fit(X_train,y_train,inf_loop=True)"
   ]
  },
  {
   "cell_type": "code",
   "execution_count": 136,
   "metadata": {},
   "outputs": [
    {
     "name": "stdout",
     "output_type": "stream",
     "text": [
      "--------Results--------\n",
      "Accuracy: 0.5151515151515151\n",
      "----Class 1----\n",
      "Precision: 0.5151515151515151\n",
      "Recall: 1.0\n",
      "----Class 0----\n",
      "Precision: nan\n",
      "Recall: 0.0\n"
     ]
    }
   ],
   "source": [
    "tp,tn,fp,fn=pm1.score(X_test,y_test,_print=True)"
   ]
  },
  {
   "attachments": {},
   "cell_type": "markdown",
   "metadata": {},
   "source": [
    "#### Using epochs"
   ]
  },
  {
   "cell_type": "code",
   "execution_count": 137,
   "metadata": {},
   "outputs": [],
   "source": [
    "pm2.fit(X_train,y_train,inf_loop=False,epochs = 1000)"
   ]
  },
  {
   "cell_type": "code",
   "execution_count": 138,
   "metadata": {},
   "outputs": [
    {
     "name": "stdout",
     "output_type": "stream",
     "text": [
      "--------Results--------\n",
      "Accuracy: 0.5151515151515151\n",
      "----Class 1----\n",
      "Precision: 0.5151515151515151\n",
      "Recall: 1.0\n",
      "----Class 0----\n",
      "Precision: nan\n",
      "Recall: 0.0\n"
     ]
    }
   ],
   "source": [
    "tp,tn,fp,fn=pm1.score(X_test,y_test,_print=True)"
   ]
  },
  {
   "attachments": {},
   "cell_type": "markdown",
   "metadata": {},
   "source": [
    "## Learning Task 2\n",
    "\n",
    "Build a perceptron model on normalized data"
   ]
  },
  {
   "cell_type": "code",
   "execution_count": 139,
   "metadata": {},
   "outputs": [],
   "source": [
    "splits = preprocessor.preprocess(n_splits=1,standardize=True,labels=[-1,1]) # splitting into training and testing\n",
    "train, test = splits[0]\n",
    "X_train, y_train = train.drop(columns=[\"diagnosis\"]).to_numpy(), train[\"diagnosis\"].to_numpy()\n",
    "X_test, y_test = test.drop(columns=[\"diagnosis\"]).to_numpy(), test[\"diagnosis\"].to_numpy()"
   ]
  },
  {
   "attachments": {},
   "cell_type": "markdown",
   "metadata": {},
   "source": [
    "### Using an infinite loop that terminates on some learning threshold"
   ]
  },
  {
   "cell_type": "code",
   "execution_count": 140,
   "metadata": {},
   "outputs": [
    {
     "name": "stdout",
     "output_type": "stream",
     "text": [
      "0.9342465753424658\n",
      "0.9424657534246575\n",
      "0.958904109589041\n",
      "0.9616438356164384\n",
      "0.9643835616438357\n",
      "0.947945205479452\n",
      "0.9726027397260274\n",
      "0.9753424657534246\n",
      "0.9506849315068493\n",
      "0.9726027397260274\n",
      "0.9671232876712329\n",
      "0.9753424657534246\n",
      "0.9835616438356164\n",
      "0.9698630136986301\n",
      "0.9726027397260274\n",
      "0.9753424657534246\n",
      "0.9808219178082191\n",
      "0.9863013698630136\n",
      "0.9671232876712329\n",
      "0.9780821917808219\n",
      "0.9835616438356164\n",
      "0.9808219178082191\n",
      "0.9643835616438357\n",
      "0.9863013698630136\n",
      "0.9863013698630136\n",
      "0.9835616438356164\n",
      "0.9835616438356164\n",
      "0.9726027397260274\n",
      "0.9863013698630136\n",
      "0.9863013698630136\n",
      "0.9835616438356164\n",
      "0.9835616438356164\n",
      "0.9753424657534246\n",
      "0.9808219178082191\n",
      "0.9808219178082191\n",
      "0.9863013698630136\n",
      "0.9863013698630136\n",
      "0.9835616438356164\n",
      "0.9835616438356164\n",
      "0.9753424657534246\n",
      "0.9835616438356164\n",
      "0.9863013698630136\n",
      "0.9835616438356164\n",
      "0.9863013698630136\n",
      "0.9808219178082191\n",
      "0.9835616438356164\n",
      "0.9808219178082191\n",
      "0.9753424657534246\n",
      "0.9808219178082191\n",
      "0.9808219178082191\n",
      "0.9808219178082191\n",
      "0.9808219178082191\n",
      "0.9808219178082191\n",
      "0.9835616438356164\n",
      "0.9945205479452055\n",
      "0.9863013698630136\n",
      "0.9917808219178083\n",
      "0.9835616438356164\n",
      "0.9863013698630136\n",
      "0.989041095890411\n",
      "0.9780821917808219\n",
      "0.9835616438356164\n",
      "0.9835616438356164\n",
      "0.989041095890411\n",
      "0.9945205479452055\n",
      "0.9917808219178083\n",
      "0.9835616438356164\n",
      "0.9917808219178083\n",
      "0.9753424657534246\n",
      "0.9808219178082191\n",
      "0.9917808219178083\n",
      "0.9863013698630136\n",
      "0.9753424657534246\n",
      "0.989041095890411\n",
      "0.9863013698630136\n",
      "0.9863013698630136\n",
      "0.989041095890411\n",
      "0.9753424657534246\n",
      "0.989041095890411\n",
      "0.9808219178082191\n",
      "0.989041095890411\n",
      "0.9863013698630136\n",
      "0.9945205479452055\n",
      "0.9945205479452055\n",
      "0.9917808219178083\n",
      "0.9835616438356164\n",
      "0.9945205479452055\n",
      "0.9753424657534246\n",
      "0.989041095890411\n",
      "0.9945205479452055\n",
      "0.989041095890411\n",
      "0.989041095890411\n",
      "0.9863013698630136\n",
      "0.9753424657534246\n",
      "0.989041095890411\n",
      "0.9917808219178083\n",
      "0.9917808219178083\n",
      "0.9808219178082191\n",
      "0.9917808219178083\n",
      "0.989041095890411\n",
      "0.9945205479452055\n",
      "Breaking as learnt perfect decision boundary\n"
     ]
    }
   ],
   "source": [
    "pm3 = Perceptron()\n",
    "pm3.fit(X_train,y_train,inf_loop=True)"
   ]
  },
  {
   "cell_type": "code",
   "execution_count": 141,
   "metadata": {},
   "outputs": [
    {
     "name": "stdout",
     "output_type": "stream",
     "text": [
      "--------Results--------\n",
      "Accuracy: 0.9646464646464646\n",
      "----Class 1----\n",
      "Precision: 0.9797979797979798\n",
      "Recall: 0.9509803921568627\n",
      "----Class 0----\n",
      "Precision: 0.9494949494949495\n",
      "Recall: 0.9791666666666666\n"
     ]
    }
   ],
   "source": [
    "tp,tn,fp,fn = pm3.score(X_test,y_test,_print=True)\n"
   ]
  }
 ],
 "metadata": {
  "kernelspec": {
   "display_name": "ml",
   "language": "python",
   "name": "python3"
  },
  "language_info": {
   "codemirror_mode": {
    "name": "ipython",
    "version": 3
   },
   "file_extension": ".py",
   "mimetype": "text/x-python",
   "name": "python",
   "nbconvert_exporter": "python",
   "pygments_lexer": "ipython3",
   "version": "3.10.9"
  },
  "orig_nbformat": 4
 },
 "nbformat": 4,
 "nbformat_minor": 2
}
