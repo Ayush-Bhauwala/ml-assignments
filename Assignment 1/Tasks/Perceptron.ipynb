{
 "cells": [
  {
   "cell_type": "code",
   "execution_count": 1,
   "metadata": {},
   "outputs": [],
   "source": [
    "import numpy as np\n",
    "import pandas as pd\n",
    "import sys\n",
    "sys.path.append(\"..\")\n",
    "from preprocessor import Preprocessor\n",
    "from Models.Perceptron import Perceptron\n",
    "import warnings \n",
    "import matplotlib.pyplot as plt\n",
    "warnings.filterwarnings(action=\"ignore\")"
   ]
  },
  {
   "cell_type": "code",
   "execution_count": 2,
   "metadata": {},
   "outputs": [],
   "source": [
    "dataset = pd.read_csv(\"../dataset.csv\")\n",
    "dataset.drop(columns = [\"id\"], inplace=True)"
   ]
  },
  {
   "cell_type": "code",
   "execution_count": 3,
   "metadata": {},
   "outputs": [],
   "source": [
    "preprocessor_1 = Preprocessor(dataset, \"diagnosis\")\n",
    "splits = preprocessor_1.preprocess(drop_na=False, standardize=True, labels=[-1, 1], n_splits=10)"
   ]
  },
  {
   "cell_type": "code",
   "execution_count": 4,
   "metadata": {},
   "outputs": [
    {
     "name": "stdout",
     "output_type": "stream",
     "text": [
      "Learning Task1: No Feature Engineering\n",
      "Breaking as learnt perfect decision boundary\n",
      "Fold 1: Accuracy: 0.95\n",
      "Breaking as learnt perfect decision boundary\n",
      "Fold 2: Accuracy: 0.95\n",
      "Breaking as learnt perfect decision boundary\n",
      "Fold 3: Accuracy: 0.95\n",
      "Breaking as learnt perfect decision boundary\n",
      "Fold 4: Accuracy: 0.94\n",
      "Breaking as learnt perfect decision boundary\n",
      "Fold 5: Accuracy: 0.93\n",
      "Breaking as learnt perfect decision boundary\n",
      "Fold 6: Accuracy: 0.93\n",
      "Breaking as learnt perfect decision boundary\n",
      "Fold 7: Accuracy: 0.93\n",
      "Breaking as learnt perfect decision boundary\n",
      "Fold 8: Accuracy: 0.93\n",
      "Breaking as learnt perfect decision boundary\n",
      "Fold 9: Accuracy: 0.93\n",
      "Breaking as learnt perfect decision boundary\n",
      "Fold 10: Accuracy: 0.94\n"
     ]
    }
   ],
   "source": [
    "\n",
    "print(\"Learning Task1: No Feature Engineering\")\n",
    "accuracies: list[float] = []\n",
    "for i, split in enumerate(splits):\n",
    "\n",
    "    train, test = split\n",
    "    X_train, y_train = train.drop(columns=[\"diagnosis\"]).to_numpy(), train[\"diagnosis\"].to_numpy()\n",
    "    X_test, y_test = test.drop(columns=[\"diagnosis\"]).to_numpy(), test[\"diagnosis\"].to_numpy()\n",
    "    perceptron = Perceptron()\n",
    "    perceptron.fit(X_train, y_train)\n",
    "    \n",
    "    tp, tn, fp, fn = perceptron.score(X_test, y_test, _print=False)\n",
    "    print(f\"Fold {i+1}: Accuracy: {round((tp+tn)/(tp+tn+fp+fn), 2)}\")"
   ]
  }
 ],
 "metadata": {
  "kernelspec": {
   "display_name": "ml",
   "language": "python",
   "name": "python3"
  },
  "language_info": {
   "codemirror_mode": {
    "name": "ipython",
    "version": 3
   },
   "file_extension": ".py",
   "mimetype": "text/x-python",
   "name": "python",
   "nbconvert_exporter": "python",
   "pygments_lexer": "ipython3",
   "version": "3.10.9"
  },
  "orig_nbformat": 4
 },
 "nbformat": 4,
 "nbformat_minor": 2
}
