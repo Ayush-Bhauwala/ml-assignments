{
 "cells": [
  {
   "attachments": {},
   "cell_type": "markdown",
   "metadata": {},
   "source": [
    "# Part B: Fisher's Linear Discriminant Analysis\n",
    "## Learning Task 1\n",
    "1. Build Fisher's linear discriminant model (FLDM1) on training data and reduce 32 dimensional problem to univariate dimensional problem\n",
    "2. Finding out decision boundary in univariate dimension using generative approach"
   ]
  },
  {
   "cell_type": "code",
   "execution_count": 2,
   "metadata": {},
   "outputs": [],
   "source": [
    "import numpy as np\n",
    "import pandas as pd\n",
    "import sys\n",
    "sys.path.append(\"..\")\n",
    "from preprocessor import Preprocessor\n",
    "from Models.FischersLinearDiscriminant import FischersLinearDiscriminant\n",
    "import warnings \n",
    "warnings.filterwarnings(action=\"ignore\")"
   ]
  },
  {
   "cell_type": "code",
   "execution_count": 3,
   "metadata": {},
   "outputs": [],
   "source": [
    "dataset = pd.read_csv(\"../dataset.csv\")\n",
    "dataset.drop(columns = [\"id\"], inplace=True)\n",
    "preprocessor_1 = Preprocessor(dataset, \"diagnosis\")\n",
    "splits = preprocessor_1.preprocess(drop_na=True, standardize=False, labels=[0, 1], n_splits=10)"
   ]
  },
  {
   "cell_type": "code",
   "execution_count": 6,
   "metadata": {},
   "outputs": [
    {
     "name": "stdout",
     "output_type": "stream",
     "text": [
      "Mean accuracy = 94.9\n"
     ]
    }
   ],
   "source": [
    "accuracies: list[float] = []\n",
    "for split in splits:\n",
    "    train, test = split\n",
    "    X_train, y_train = train.drop(columns=[\"diagnosis\"]).to_numpy(), train[\"diagnosis\"].to_numpy()\n",
    "    X_test, y_test = test.drop(columns=[\"diagnosis\"]).to_numpy(), test[\"diagnosis\"].to_numpy()\n",
    "    FLDM1 = FischersLinearDiscriminant()\n",
    "    FLDM1.fit(X_train, y_train)\n",
    "    tp, tn, fp, fn = FLDM1.score(X_test, y_test)\n",
    "    accuracies.append((tp + tn) / (tp + tn + fp + fn))\n",
    "mean_accuracy = np.round((np.mean(accuracies)*100), 2)\n",
    "print(f\"Mean accuracy = {mean_accuracy}\")"
   ]
  },
  {
   "attachments": {},
   "cell_type": "markdown",
   "metadata": {},
   "source": [
    "## Learning Task 2\n",
    "1. Change order of features randomly and build Fisher's linear discriminant model (FLDM2) on same training data as task 1\n",
    "2. Outline the differences between FLDM1 and FLDM2 and compare their respective performances"
   ]
  },
  {
   "cell_type": "code",
   "execution_count": 14,
   "metadata": {},
   "outputs": [
    {
     "name": "stdout",
     "output_type": "stream",
     "text": [
      "Mean accuracy = 94.9\n"
     ]
    }
   ],
   "source": [
    "accuracies: list[float] = []\n",
    "permutation = np.arange(31)\n",
    "np.random.shuffle(permutation)\n",
    "for split in splits:\n",
    "    train, test = split\n",
    "    train.iloc[:,permutation]\n",
    "    X_train, y_train = train.drop(columns=[\"diagnosis\"]).to_numpy(), train[\"diagnosis\"].to_numpy()\n",
    "    X_test, y_test = test.drop(columns=[\"diagnosis\"]).to_numpy(), test[\"diagnosis\"].to_numpy()\n",
    "    FLDM2 = FischersLinearDiscriminant()\n",
    "    FLDM2.fit(X_train, y_train)\n",
    "    tp, tn, fp, fn = FLDM2.score(X_test, y_test)\n",
    "    accuracies.append((tp + tn) / (tp + tn + fp + fn))\n",
    "mean_accuracy = np.round((np.mean(accuracies)*100), 2)\n",
    "print(f\"Mean accuracy = {mean_accuracy}\")\n"
   ]
  }
 ],
 "metadata": {
  "kernelspec": {
   "display_name": "crux",
   "language": "python",
   "name": "python3"
  },
  "language_info": {
   "codemirror_mode": {
    "name": "ipython",
    "version": 3
   },
   "file_extension": ".py",
   "mimetype": "text/x-python",
   "name": "python",
   "nbconvert_exporter": "python",
   "pygments_lexer": "ipython3",
   "version": "3.11.2"
  },
  "orig_nbformat": 4,
  "vscode": {
   "interpreter": {
    "hash": "810500268b1047ca9e13a7cfd3c0a1937881146f656ac4aa33d94be40d30cf88"
   }
  }
 },
 "nbformat": 4,
 "nbformat_minor": 2
}
