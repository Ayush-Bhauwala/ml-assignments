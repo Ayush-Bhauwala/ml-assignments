{
 "cells": [
  {
   "attachments": {},
   "cell_type": "markdown",
   "metadata": {},
   "source": [
    "# Part A: Logistic Regression\n",
    "\n",
    "## Learning task 1\n",
    "\n",
    "1. Build  a  classification  model  `(LR1)`  using  Logistic  Regression.  \n",
    "2. What  happens  to  testing accuracy when you vary the  decision  probability threshold  from  0.5 to 0.3, 0.4,  0.6 and  0.7."
   ]
  },
  {
   "cell_type": "code",
   "execution_count": 1,
   "metadata": {},
   "outputs": [],
   "source": [
    "import numpy as np\n",
    "import pandas as pd\n",
    "import sys\n",
    "sys.path.append(\"..\")\n",
    "from preprocessor import Preprocessor\n",
    "from Models.LogisticRegression import LogReg\n",
    "import warnings \n",
    "warnings.filterwarnings(action=\"ignore\")"
   ]
  },
  {
   "cell_type": "code",
   "execution_count": 2,
   "metadata": {},
   "outputs": [],
   "source": [
    "dataset = pd.read_csv(\"../dataset.csv\")\n",
    "dataset.drop(columns = [\"id\"], inplace=True)"
   ]
  },
  {
   "cell_type": "code",
   "execution_count": 3,
   "metadata": {},
   "outputs": [],
   "source": [
    "preprocessor = Preprocessor(dataset, \"diagnosis\")\n",
    "splits = preprocessor.preprocess(drop_na=False, standardize=False, labels=[0, 1])"
   ]
  },
  {
   "cell_type": "code",
   "execution_count": 4,
   "metadata": {},
   "outputs": [],
   "source": [
    "accuracies: list[float] = []"
   ]
  },
  {
   "cell_type": "code",
   "execution_count": 5,
   "metadata": {},
   "outputs": [],
   "source": [
    "for split in splits:\n",
    "    train, test = split\n",
    "    X_train, y_train = train.drop(columns=[\"diagnosis\"]).to_numpy(), train[\"diagnosis\"].to_numpy()\n",
    "    X_test, y_test = test.drop(columns=[\"diagnosis\"]).to_numpy(), test[\"diagnosis\"].to_numpy()\n",
    "    logreg = LogReg()\n",
    "    logreg.fit(X_train, y_train)\n",
    "    y_pred = logreg.predict(X_test)\n",
    "    tp, tn, fp, fn = logreg.score(X_test, y_test)\n",
    "    accuracies.append((tp + tn) / (tp + tn + fp + fn))\n",
    "   \n",
    "    "
   ]
  },
  {
   "cell_type": "code",
   "execution_count": 6,
   "metadata": {},
   "outputs": [
    {
     "name": "stdout",
     "output_type": "stream",
     "text": [
      "Average accuracy: 92.73%\n",
      "Standard deviation: 3.67%\n"
     ]
    }
   ],
   "source": [
    "print(f\"Average accuracy: {np.round((np.mean(accuracies)*100), 2)}%\")\n",
    "print(f\"Standard deviation: {np.round((np.std(accuracies)*100), 2)}%\")"
   ]
  },
  {
   "attachments": {},
   "cell_type": "markdown",
   "metadata": {},
   "source": [
    "## Learning task 2\n",
    "\n",
    "1. Perform:\n",
    "    1. Feature engineering task 1: imputing missing values\n",
    "    2. Feature engineering task 2: normalization/stanardization\n",
    "\n",
    "2. Build a  classification  model  `(LR2)`  using  Logistic  Regression.\n",
    "\n",
    "3. What  happens  to  testing accuracy when you vary the  decision  probability threshold  from  0.5 to 0.3, 0.4,  0.6 and  0.7."
   ]
  },
  {
   "cell_type": "code",
   "execution_count": null,
   "metadata": {},
   "outputs": [],
   "source": []
  }
 ],
 "metadata": {
  "kernelspec": {
   "display_name": "crux",
   "language": "python",
   "name": "python3"
  },
  "language_info": {
   "codemirror_mode": {
    "name": "ipython",
    "version": 3
   },
   "file_extension": ".py",
   "mimetype": "text/x-python",
   "name": "python",
   "nbconvert_exporter": "python",
   "pygments_lexer": "ipython3",
   "version": "3.10.9"
  },
  "orig_nbformat": 4,
  "vscode": {
   "interpreter": {
    "hash": "810500268b1047ca9e13a7cfd3c0a1937881146f656ac4aa33d94be40d30cf88"
   }
  }
 },
 "nbformat": 4,
 "nbformat_minor": 2
}
