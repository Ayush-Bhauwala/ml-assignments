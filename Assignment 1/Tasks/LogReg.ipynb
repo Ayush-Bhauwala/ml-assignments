{
 "cells": [
  {
   "attachments": {},
   "cell_type": "markdown",
   "metadata": {},
   "source": [
    "# Part A: Logistic Regression\n",
    "\n",
    "## Learning task 1\n",
    "\n",
    "1. Build  a  classification  model  `(LR1)`  using  Logistic  Regression.  \n",
    "2. What  happens  to  testing accuracy when you vary the  decision  probability threshold  from  0.5 to 0.3, 0.4,  0.6 and  0.7."
   ]
  },
  {
   "cell_type": "code",
   "execution_count": 1,
   "metadata": {},
   "outputs": [],
   "source": [
    "import numpy as np\n",
    "import pandas as pd\n",
    "import sys\n",
    "sys.path.append(\"..\")\n",
    "from preprocessor import Preprocessor\n",
    "from Models.LogisticRegression import LogReg\n",
    "import warnings \n",
    "import matplotlib.pyplot as plt\n",
    "warnings.filterwarnings(action=\"ignore\")"
   ]
  },
  {
   "cell_type": "code",
   "execution_count": 2,
   "metadata": {},
   "outputs": [],
   "source": [
    "# Variables (hyperparamters) as defined in question\n",
    "\n",
    "thresholds = [0.5]\n",
    "learning_rates = [1e-2]\n",
    "descents = [\"batch\", \"mini-batch\", \"stochastic\"]\n",
    "\n",
    "# Creating a parameter grid\n",
    "\n",
    "grid = {}\n",
    "for threshold in thresholds:\n",
    "    for learning_rate in learning_rates:\n",
    "        for descent in descents:\n",
    "            grid[(threshold, learning_rate, descent)]: tuple[float, float] = tuple()\n",
    "\n",
    "# creating a dataframe to store the results\n",
    "\n",
    "results = pd.DataFrame(columns=[\"threshold\", \"learning_rate\", \"descent\", \"mean_accuracy\", \"std_accuracy\"])"
   ]
  },
  {
   "cell_type": "code",
   "execution_count": 3,
   "metadata": {},
   "outputs": [],
   "source": [
    "dataset = pd.read_csv(\"../dataset.csv\")\n",
    "dataset.drop(columns = [\"id\"], inplace=True)"
   ]
  },
  {
   "cell_type": "code",
   "execution_count": 4,
   "metadata": {},
   "outputs": [],
   "source": [
    "preprocessor = Preprocessor(dataset, \"diagnosis\")\n",
    "splits = preprocessor.preprocess(drop_na=False, standardize=False, labels=[0, 1], n_splits=10)"
   ]
  },
  {
   "cell_type": "code",
   "execution_count": 5,
   "metadata": {},
   "outputs": [],
   "source": [
    "def create_plot(train_losses, test_losses):\n",
    "    plot = plt.figure()\n",
    "    plot.suptitle(\"Losses\")\n",
    "    plt.plot(train_losses, label=\"Train\")\n",
    "    plt.plot(test_losses, label=\"Test\")\n",
    "    plt.legend()\n",
    "    plt.show()\n",
    "    "
   ]
  },
  {
   "cell_type": "code",
   "execution_count": 6,
   "metadata": {},
   "outputs": [
    {
     "name": "stdout",
     "output_type": "stream",
     "text": [
      "3.5376678815859197 1.4134147325706599\n",
      "19.643469380020683 21.28149158272074\n",
      "9.682032924100241 6.87024981534509\n",
      "3.4891018784248784 1.5305711520948453\n",
      "18.01010199129945 19.01379390651757\n",
      "4.199707720765796 2.6165739693114154\n",
      "4.328746919940616 2.61657396931167\n",
      "11.265273978214399 9.070789760279554\n",
      "3.2380230371198273 1.9342809733203918\n",
      "2.979085856930346 2.0932590263417894\n",
      "4.5618324165070705 3.314327027794459\n",
      "13.38873381380295 14.597071521605274\n",
      "4.013878183976716 3.0428058949428065\n",
      "3.6307641029782847 2.613719289259248\n",
      "4.22012640286942 2.759046358507349\n",
      "3.946883194070019 2.616573969311415\n",
      "4.917543187142495 2.7910512893367407\n",
      "3.041908924141293 1.8922554115252446\n",
      "3.1335114137552766 1.8815240557207404\n",
      "3.105842348659122 2.35274358995986\n",
      "2.9836748152020633 1.9188209108283703\n",
      "3.444567998134084 2.0932591754491314\n",
      "4.189339454908303 2.7910122339323222\n",
      "2.979085834601461 1.046629587724566\n",
      "3.309269491929015 1.046629587724565\n",
      "3.351471563926643 1.3969527017134646\n",
      "3.213438817750062 1.3955061169660876\n",
      "3.165278699264052 1.3955061169660874\n",
      "2.8859894022701646 2.2676974400698926\n",
      "2.792892969938869 2.2676974400960037\n"
     ]
    }
   ],
   "source": [
    "train_plots = []\n",
    "test_plots = []\n",
    "for key in grid.keys():\n",
    "    threshold, learning_rate, descent = key\n",
    "    accuracies: list[float] = []\n",
    "    for split in splits:\n",
    "        train, test = split\n",
    "        X_train, y_train = train.drop(columns=[\"diagnosis\"]).to_numpy(), train[\"diagnosis\"].to_numpy()\n",
    "        X_test, y_test = test.drop(columns=[\"diagnosis\"]).to_numpy(), test[\"diagnosis\"].to_numpy()\n",
    "        logreg = LogReg(threshold=threshold)\n",
    "        train_losses, test_losses = logreg.fit(X_train, y_train, X_test, y_test, lr = learning_rate, descent=descent, epochs=1000)\n",
    "        # create_plot(train_losses, test_losses)\n",
    "        print(train_losses[-1], test_losses[-1])\n",
    "        y_pred = logreg.predict(X_test)\n",
    "        tp, tn, fp, fn = logreg.score(X_test, y_test)\n",
    "        accuracies.append((tp + tn) / (tp + tn + fp + fn))\n",
    "    result_dict = {\n",
    "        \"threshold\": threshold,\n",
    "        \"learning_rate\": learning_rate,\n",
    "        \"descent\": descent,\n",
    "        \"mean_accuracy\": np.round((np.mean(accuracies)*100), 2),\n",
    "        \"std_accuracy\": np.round((np.std(accuracies)*100), 2)\n",
    "    }\n",
    "    result =  pd.DataFrame(result_dict, index=[0])\n",
    "    results = pd.concat([results, result], ignore_index=True)"
   ]
  },
  {
   "cell_type": "code",
   "execution_count": 7,
   "metadata": {},
   "outputs": [
    {
     "data": {
      "text/html": [
       "<div>\n",
       "<style scoped>\n",
       "    .dataframe tbody tr th:only-of-type {\n",
       "        vertical-align: middle;\n",
       "    }\n",
       "\n",
       "    .dataframe tbody tr th {\n",
       "        vertical-align: top;\n",
       "    }\n",
       "\n",
       "    .dataframe thead th {\n",
       "        text-align: right;\n",
       "    }\n",
       "</style>\n",
       "<table border=\"1\" class=\"dataframe\">\n",
       "  <thead>\n",
       "    <tr style=\"text-align: right;\">\n",
       "      <th></th>\n",
       "      <th>threshold</th>\n",
       "      <th>learning_rate</th>\n",
       "      <th>descent</th>\n",
       "      <th>mean_accuracy</th>\n",
       "      <th>std_accuracy</th>\n",
       "    </tr>\n",
       "  </thead>\n",
       "  <tbody>\n",
       "    <tr>\n",
       "      <th>0</th>\n",
       "      <td>0.5</td>\n",
       "      <td>0.01</td>\n",
       "      <td>batch</td>\n",
       "      <td>80.05</td>\n",
       "      <td>20.43</td>\n",
       "    </tr>\n",
       "    <tr>\n",
       "      <th>1</th>\n",
       "      <td>0.5</td>\n",
       "      <td>0.01</td>\n",
       "      <td>mini-batch</td>\n",
       "      <td>88.74</td>\n",
       "      <td>10.97</td>\n",
       "    </tr>\n",
       "    <tr>\n",
       "      <th>2</th>\n",
       "      <td>0.5</td>\n",
       "      <td>0.01</td>\n",
       "      <td>stochastic</td>\n",
       "      <td>94.90</td>\n",
       "      <td>1.62</td>\n",
       "    </tr>\n",
       "  </tbody>\n",
       "</table>\n",
       "</div>"
      ],
      "text/plain": [
       "   threshold  learning_rate     descent  mean_accuracy  std_accuracy\n",
       "0        0.5           0.01       batch          80.05         20.43\n",
       "1        0.5           0.01  mini-batch          88.74         10.97\n",
       "2        0.5           0.01  stochastic          94.90          1.62"
      ]
     },
     "execution_count": 7,
     "metadata": {},
     "output_type": "execute_result"
    }
   ],
   "source": [
    "results"
   ]
  },
  {
   "attachments": {},
   "cell_type": "markdown",
   "metadata": {},
   "source": [
    "## Learning task 2\n",
    "\n",
    "1. Perform:\n",
    "    1. Feature engineering task 1: imputing missing values\n",
    "    2. Feature engineering task 2: normalization/stanardization\n",
    "\n",
    "2. Build a  classification  model  `(LR2)`  using  Logistic  Regression.\n",
    "\n",
    "3. What  happens  to  testing accuracy when you vary the  decision  probability threshold  from  0.5 to 0.3, 0.4,  0.6 and  0.7."
   ]
  },
  {
   "cell_type": "code",
   "execution_count": null,
   "metadata": {},
   "outputs": [],
   "source": []
  }
 ],
 "metadata": {
  "kernelspec": {
   "display_name": "crux",
   "language": "python",
   "name": "python3"
  },
  "language_info": {
   "codemirror_mode": {
    "name": "ipython",
    "version": 3
   },
   "file_extension": ".py",
   "mimetype": "text/x-python",
   "name": "python",
   "nbconvert_exporter": "python",
   "pygments_lexer": "ipython3",
   "version": "3.10.9"
  },
  "orig_nbformat": 4,
  "vscode": {
   "interpreter": {
    "hash": "810500268b1047ca9e13a7cfd3c0a1937881146f656ac4aa33d94be40d30cf88"
   }
  }
 },
 "nbformat": 4,
 "nbformat_minor": 2
}
